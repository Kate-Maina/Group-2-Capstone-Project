{
 "cells": [
  {
   "cell_type": "markdown",
   "id": "687dd4d8",
   "metadata": {},
   "source": [
    "## Demand Forecasting in Kenya’s Second-Hand Retail Sector"
   ]
  }
 ],
 "metadata": {
  "language_info": {
   "name": "python"
  }
 },
 "nbformat": 4,
 "nbformat_minor": 5
}
