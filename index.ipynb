{
 "cells": [
  {
   "cell_type": "markdown",
   "id": "687dd4d8",
   "metadata": {},
   "source": [
    "## Demand Forecasting in Kenya’s Second-Hand Retail Sector"
   ]
  }
 ],
 "metadata": {
  "kernelspec": {
   "display_name": "Python 3",
   "language": "python",
   "name": "python3"
  },
  "language_info": {
   "name": "python",
   "version": "3.10.0"
  }
 },
 "nbformat": 4,
 "nbformat_minor": 5
}
